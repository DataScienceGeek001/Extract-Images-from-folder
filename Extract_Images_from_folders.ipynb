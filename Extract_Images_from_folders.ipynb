{
 "cells": [
  {
   "cell_type": "code",
   "execution_count": 10,
   "metadata": {},
   "outputs": [],
   "source": [
    "import os\n",
    "import time\n",
    "import pandas as pd"
   ]
  },
  {
   "cell_type": "code",
   "execution_count": 20,
   "metadata": {},
   "outputs": [],
   "source": [
    "# Extract Images from given folder\n",
    "def extract_images_v2(folder):\n",
    "    \n",
    "    t = time.time()\n",
    "    \n",
    "    # List to store image paths\n",
    "    imgs_v2 = []\n",
    "    \n",
    "    # Traverses through to dirs and subdirs\n",
    "    for root, dirs, files in os.walk(folder):\n",
    "        \n",
    "        for file in files:   \n",
    "            \n",
    "            if file.endswith(\".jpeg\") or file.endswith(\".jpg\") or file.endswith(\".png\") or file.endswith(\".bmp\"):\n",
    "                imgs_v2.append(os.path.join(root, file))\n",
    "                \n",
    "    # Prints the execution time\n",
    "    print(f\"Time for Execution: {(time.time() - t):.3f}\")\n",
    "    \n",
    "    # Store the paths to csv\n",
    "    # csv_data = pd.DataFrame(imgs_v2).to_csv('img_paths.csv', index=False, header=['Image_Path'])\n",
    "    \n",
    "    return imgs_v2"
   ]
  },
  {
   "cell_type": "code",
   "execution_count": 21,
   "metadata": {},
   "outputs": [
    {
     "name": "stdout",
     "output_type": "stream",
     "text": [
      "Time for Execution: 1.736\n"
     ]
    }
   ],
   "source": [
    "folder = \"C:\\\\Users\\\\Hatim\\\\Desktop\\\\Learning\\\\\"\n",
    "\n",
    "imgs_v2 = extract_images_v2(folder)"
   ]
  },
  {
   "cell_type": "code",
   "execution_count": 22,
   "metadata": {},
   "outputs": [
    {
     "data": {
      "text/plain": [
       "123401"
      ]
     },
     "execution_count": 22,
     "metadata": {},
     "output_type": "execute_result"
    }
   ],
   "source": [
    "len(imgs_v2)"
   ]
  },
  {
   "cell_type": "code",
   "execution_count": 14,
   "metadata": {},
   "outputs": [
    {
     "data": {
      "text/plain": [
       "['C:\\\\Users\\\\Hatim\\\\Desktop\\\\Learning\\\\Shell Tutorial\\\\folder_1\\\\1.jpeg',\n",
       " 'C:\\\\Users\\\\Hatim\\\\Desktop\\\\Learning\\\\Shell Tutorial\\\\folder_1\\\\download.jpeg',\n",
       " 'C:\\\\Users\\\\Hatim\\\\Desktop\\\\Learning\\\\Shell Tutorial\\\\folder_1\\\\Folder_1_1\\\\download (1).jpeg',\n",
       " 'C:\\\\Users\\\\Hatim\\\\Desktop\\\\Learning\\\\Shell Tutorial\\\\folder_1\\\\Folder_1_1\\\\download (2).jpeg',\n",
       " 'C:\\\\Users\\\\Hatim\\\\Desktop\\\\Learning\\\\Shell Tutorial\\\\folder_1\\\\Folder_1_1\\\\Folder_1_1_1\\\\images (2).jpeg',\n",
       " 'C:\\\\Users\\\\Hatim\\\\Desktop\\\\Learning\\\\Shell Tutorial\\\\folder_1\\\\Folder_1_1\\\\Folder_1_1_1\\\\images (3).jpeg',\n",
       " 'C:\\\\Users\\\\Hatim\\\\Desktop\\\\Learning\\\\Shell Tutorial\\\\folder_1\\\\Folder_1_1\\\\Folder_1_1_1\\\\Folder_1_1_1_1\\\\download (1).jpg',\n",
       " 'C:\\\\Users\\\\Hatim\\\\Desktop\\\\Learning\\\\Shell Tutorial\\\\folder_1\\\\Folder_1_1\\\\Folder_1_1_1\\\\Folder_1_1_1_1\\\\download (2).jpg',\n",
       " 'C:\\\\Users\\\\Hatim\\\\Desktop\\\\Learning\\\\Shell Tutorial\\\\folder_1\\\\Folder_1_1\\\\Folder_1_1_2\\\\download (3).jpeg',\n",
       " 'C:\\\\Users\\\\Hatim\\\\Desktop\\\\Learning\\\\Shell Tutorial\\\\folder_1\\\\Folder_1_1\\\\Folder_1_1_2\\\\download (4).jpeg',\n",
       " 'C:\\\\Users\\\\Hatim\\\\Desktop\\\\Learning\\\\Shell Tutorial\\\\folder_1\\\\Folder_1_1\\\\Folder_1_1_2\\\\Folder_1_1_2_1\\\\download (3).jpg',\n",
       " 'C:\\\\Users\\\\Hatim\\\\Desktop\\\\Learning\\\\Shell Tutorial\\\\folder_1\\\\Folder_1_1\\\\Folder_1_1_2\\\\Folder_1_1_2_1\\\\download (4).jpg',\n",
       " 'C:\\\\Users\\\\Hatim\\\\Desktop\\\\Learning\\\\Shell Tutorial\\\\folder_1\\\\Folder_1_2\\\\download (1).jpeg',\n",
       " 'C:\\\\Users\\\\Hatim\\\\Desktop\\\\Learning\\\\Shell Tutorial\\\\folder_1\\\\Folder_1_2\\\\download (2).jpeg',\n",
       " 'C:\\\\Users\\\\Hatim\\\\Desktop\\\\Learning\\\\Shell Tutorial\\\\folder_1\\\\Folder_1_2\\\\Folder_1_2_1\\\\download (3).jpeg',\n",
       " 'C:\\\\Users\\\\Hatim\\\\Desktop\\\\Learning\\\\Shell Tutorial\\\\folder_1\\\\Folder_1_2\\\\Folder_1_2_1\\\\download (4).jpeg',\n",
       " 'C:\\\\Users\\\\Hatim\\\\Desktop\\\\Learning\\\\Shell Tutorial\\\\folder_1\\\\Folder_1_2\\\\Folder_1_2_1\\\\Folder_1_2_1_1\\\\download (5).jpg',\n",
       " 'C:\\\\Users\\\\Hatim\\\\Desktop\\\\Learning\\\\Shell Tutorial\\\\folder_1\\\\Folder_1_2\\\\Folder_1_2_1\\\\Folder_1_2_1_1\\\\download.jpg',\n",
       " 'C:\\\\Users\\\\Hatim\\\\Desktop\\\\Learning\\\\Shell Tutorial\\\\folder_1\\\\Folder_1_2\\\\Folder_1_2_2\\\\images (1).jpeg',\n",
       " 'C:\\\\Users\\\\Hatim\\\\Desktop\\\\Learning\\\\Shell Tutorial\\\\folder_1\\\\Folder_1_2\\\\Folder_1_2_2\\\\images.jpeg',\n",
       " 'C:\\\\Users\\\\Hatim\\\\Desktop\\\\Learning\\\\Shell Tutorial\\\\folder_1\\\\Folder_1_2\\\\Folder_1_2_2\\\\Folder_1_2_2_1\\\\download (1).jpg',\n",
       " 'C:\\\\Users\\\\Hatim\\\\Desktop\\\\Learning\\\\Shell Tutorial\\\\folder_1\\\\Folder_1_2\\\\Folder_1_2_2\\\\Folder_1_2_2_1\\\\download.jpg',\n",
       " 'C:\\\\Users\\\\Hatim\\\\Desktop\\\\Learning\\\\Shell Tutorial\\\\folder_1\\\\Folder_1_3\\\\images (1).jpeg',\n",
       " 'C:\\\\Users\\\\Hatim\\\\Desktop\\\\Learning\\\\Shell Tutorial\\\\folder_1\\\\Folder_1_3\\\\images.jpeg',\n",
       " 'C:\\\\Users\\\\Hatim\\\\Desktop\\\\Learning\\\\Shell Tutorial\\\\folder_1\\\\Folder_1_3\\\\Folder_1_3_1\\\\images (2).jpeg',\n",
       " 'C:\\\\Users\\\\Hatim\\\\Desktop\\\\Learning\\\\Shell Tutorial\\\\folder_1\\\\Folder_1_3\\\\Folder_1_3_1\\\\Folder_1_3_1_1\\\\images.jpg',\n",
       " 'C:\\\\Users\\\\Hatim\\\\Desktop\\\\Learning\\\\Shell Tutorial\\\\folder_1\\\\Folder_1_3\\\\Folder_1_3_2\\\\images (3).jpeg',\n",
       " 'C:\\\\Users\\\\Hatim\\\\Desktop\\\\Learning\\\\Shell Tutorial\\\\folder_1\\\\Folder_1_3\\\\Folder_1_3_2\\\\images (4).jpeg']"
      ]
     },
     "execution_count": 14,
     "metadata": {},
     "output_type": "execute_result"
    }
   ],
   "source": [
    "imgs_v2"
   ]
  },
  {
   "cell_type": "code",
   "execution_count": null,
   "metadata": {},
   "outputs": [],
   "source": []
  }
 ],
 "metadata": {
  "kernelspec": {
   "display_name": "Python 3",
   "language": "python",
   "name": "python3"
  },
  "language_info": {
   "codemirror_mode": {
    "name": "ipython",
    "version": 3
   },
   "file_extension": ".py",
   "mimetype": "text/x-python",
   "name": "python",
   "nbconvert_exporter": "python",
   "pygments_lexer": "ipython3",
   "version": "3.6.8"
  }
 },
 "nbformat": 4,
 "nbformat_minor": 4
}
